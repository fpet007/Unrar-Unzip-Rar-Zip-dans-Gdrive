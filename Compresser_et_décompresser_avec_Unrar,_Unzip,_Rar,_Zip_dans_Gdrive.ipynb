{
  "nbformat": 4,
  "nbformat_minor": 0,
  "metadata": {
    "colab": {
      "name": "Compresser et décompresser avec Unrar, Unzip, Rar, Zip dans Gdrive.ipynb",
      "provenance": [],
      "collapsed_sections": []
    },
    "kernelspec": {
      "name": "python3",
      "display_name": "Python 3"
    }
  },
  "cells": [
    {
      "cell_type": "markdown",
      "metadata": {
        "id": "tdHkmd6olkGV"
      },
      "source": [
        "#**Unrar, Unzip, Rar, Zip dans Gdrive**\n",
        "\n",
        "---\n",
        "---\n",
        "\n",
        "\n",
        "\n"
      ]
    },
    {
      "cell_type": "markdown",
      "metadata": {
        "id": "CFFPQjl-iX0m"
      },
      "source": [
        "# **ETAPE 1 - Montez d'abord votre Google Drive**\n",
        "\n",
        "\n",
        "---\n",
        "\n",
        "<img src=\"https://i.ibb.co/yPqB75v/output-onlinepngtools.png\" alt=\"output-onlinepngtools\" border=\"0\">\n",
        "\n"
      ]
    },
    {
      "cell_type": "code",
      "metadata": {
        "id": "TfWtGXmqbggL"
      },
      "source": [
        "from google.colab import drive\n",
        "drive.mount('/content/drive')"
      ],
      "execution_count": null,
      "outputs": []
    },
    {
      "cell_type": "markdown",
      "metadata": {
        "id": "IoAshgcf45gs"
      },
      "source": [
        "# **<font size=\"10\"><center>UNRAR/UNZIP Vos fichiers</center>**</font>\n",
        "\n",
        "---\n",
        "\n",
        "\n",
        "\n",
        "---\n",
        "\n",
        "\n",
        "\n"
      ]
    },
    {
      "cell_type": "markdown",
      "metadata": {
        "id": "yR8YTqYHioZ-"
      },
      "source": [
        "# **ETAPE 2 - Exécutez la cellule ci-dessous pour Unrar un fichier .rar**\n",
        "\n",
        "\n",
        "---\n",
        "<img src=\"https://i.ibb.co/tK5Jhxs/output-onlinepngtools.png\" alt=\"output-onlinepngtools\" border=\"0\">"
      ]
    },
    {
      "cell_type": "markdown",
      "metadata": {
        "id": "Z1Ql6FiDdBYW"
      },
      "source": [
        "*   Le premier chemin dans la cellule ci-dessous - L'emplacement de votre fichier Google Drive que vous souhaitez Unrar\n",
        "*   Le Deuxième chemin dans la cellule ci-dessous - Chemin où vous souhaitez extraire le fichier rar dans Google Drive\n",
        "\n"
      ]
    },
    {
      "cell_type": "code",
      "metadata": {
        "id": "5ScZvnCdzKm3"
      },
      "source": [
        "!unrar x \"/content/drive/My Drive/Desktop.rar\" \"/content/drive/My Drive/\""
      ],
      "execution_count": null,
      "outputs": []
    },
    {
      "cell_type": "markdown",
      "metadata": {
        "id": "CB5HnyE6kzqS"
      },
      "source": [
        "\n",
        "\n",
        "---\n",
        "\n",
        "\n",
        "\n",
        "---\n",
        "\n",
        "\n",
        "\n",
        "---\n",
        "\n"
      ]
    },
    {
      "cell_type": "markdown",
      "metadata": {
        "id": "hi4f8Ba-diVf"
      },
      "source": [
        "# **ETAPE 2 - Exécutez la cellule ci-dessous pour décompresser un fichier .zip**\n",
        "\n",
        "\n",
        "---\n",
        "<img src=\"https://i.ibb.co/Dg66pDB/156361082210525933.png\" alt=\"156361082210525933\" border=\"0\">"
      ]
    },
    {
      "cell_type": "markdown",
      "metadata": {
        "id": "o_zFmom9fWNW"
      },
      "source": [
        "*   Le Premier chemin dans la cellule ci-dessous - L'emplacement de votre fichier Google Drive que vous souhaitez décompresser\n",
        "*   Le Deuxième chemin dans la cellule ci-dessous - Chemin où vous souhaitez extraire le fichier zip dans Google Drive\n",
        "\n"
      ]
    },
    {
      "cell_type": "code",
      "metadata": {
        "id": "O1_kc7HBeslm"
      },
      "source": [
        "!unzip \"/content/drive/My Drive/desktop1.zip\" -d \"/content/drive/My Drive/\""
      ],
      "execution_count": null,
      "outputs": []
    },
    {
      "cell_type": "markdown",
      "metadata": {
        "id": "bAls_UEYfwIX"
      },
      "source": [
        "\n",
        "\n",
        "---\n",
        "\n",
        "\n",
        "\n",
        "---\n",
        "\n",
        "\n",
        "\n",
        "---\n",
        "\n"
      ]
    },
    {
      "cell_type": "markdown",
      "metadata": {
        "id": "pKZET4Pm7KFL"
      },
      "source": [
        "# **<font size=\"10\"><center>RAR/ZIP Your Files</center>**</font>\n",
        "\n",
        "---\n",
        "\n",
        "\n",
        "\n",
        "---\n",
        "\n",
        "\n",
        "\n"
      ]
    },
    {
      "cell_type": "markdown",
      "metadata": {
        "id": "zpNkG4vz28HE"
      },
      "source": [
        "# **ETAPE 3 - Exécutez les cellules ci-dessous pour compresser vos fichiers en .Rar**\n",
        "\n",
        "\n",
        "---\n",
        "\n",
        "\n",
        "<img src=\"https://i.ibb.co/tK5Jhxs/output-onlinepngtools.png\" alt=\"output-onlinepngtools\" border=\"0\">"
      ]
    },
    {
      "cell_type": "code",
      "metadata": {
        "id": "FJdyYJEc3EJr"
      },
      "source": [
        "!apt-get install rar"
      ],
      "execution_count": null,
      "outputs": []
    },
    {
      "cell_type": "markdown",
      "metadata": {
        "id": "AwzDMAcZ3Wks"
      },
      "source": [
        "*   Premier chemin dans la cellule ci-dessous - Nom de sortie de votre fichier Rar (ne mettez pas .rar à la fin. Il le prendra automatiquement)\n",
        "*   Deuxième chemin dans la cellule ci-dessous - Emplacement du fichier Google Drive des fichiers / dossier que vous souhaitez Rar\n",
        "\n"
      ]
    },
    {
      "cell_type": "code",
      "metadata": {
        "id": "BcPWfDLq3LXr"
      },
      "source": [
        "!rar a \"Folder Link\" "
      ],
      "execution_count": null,
      "outputs": []
    },
    {
      "cell_type": "markdown",
      "metadata": {
        "id": "rpg-0j7-36Xf"
      },
      "source": [
        "# **ETAPE 3 - Exécutez la cellule ci-dessous pour .zip certains fichiers**\n",
        "\n",
        "\n",
        "---\n",
        "<img src=\"https://i.ibb.co/Dg66pDB/156361082210525933.png\" alt=\"156361082210525933\" border=\"0\">"
      ]
    },
    {
      "cell_type": "markdown",
      "metadata": {
        "id": "bOQJ_rMd4JOJ"
      },
      "source": [
        "*   Premier chemin dans la cellule ci-dessous - Votre nom de fichier de sortie Zip\n",
        "*   Deuxième chemin dans la cellule ci-dessous - Emplacement du fichier Google Drive des fichiers que vous souhaitez compresser\n",
        "\n"
      ]
    },
    {
      "cell_type": "code",
      "metadata": {
        "id": "W2FsS5y_xzX3"
      },
      "source": [
        "!zip -r \"/content/drive/My Drive/Getting started.zip\" \"/content/drive/My Drive/Getting started.pdf\""
      ],
      "execution_count": null,
      "outputs": []
    },
    {
      "cell_type": "markdown",
      "metadata": {
        "id": "tpdXw54ussxF"
      },
      "source": [
        "\n",
        "## Remarque importante - Après avoir effectué toutes les étapes, veuillez noter qu'en fonction de la taille de votre fichier des fichiers Zip et Rar, cela peut prendre un certain temps pour apparaître dans votre Google Drive. Veuillez être patient. Finalement, il apparaîtra dans votre lecteur.##\n",
        "## Pour les fichiers plus volumineux, l'affichage de votre Google Drive peut prendre un certain temps. Ne réexécutez pas le code s'il ne s'affiche pas rapidement. Continuez simplement à actualiser votre page Google Drive pour voir si elle s'affiche ##\n",
        "## Pour les petits fichiers, il apparaîtra plus rapidement dans votre Google Drive. Attendez juste qu'il apparaisse. Continuez simplement à actualiser votre page pour voir si elle s'affiche ##"
      ]
    }
  ]
}